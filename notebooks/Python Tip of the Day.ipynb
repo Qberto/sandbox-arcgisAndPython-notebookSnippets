{
 "cells": [
  {
   "cell_type": "markdown",
   "metadata": {},
   "source": [
    "### March 27, 2019\n",
    "\n",
    "Pandas' read_csv method can use URLs as an input for the \"filepath\" parameter. This lets you pass a csv hosted in a web resource as a direct input to a dataframe without having to download it. Here's an example: "
   ]
  },
  {
   "cell_type": "code",
   "execution_count": 1,
   "metadata": {},
   "outputs": [
    {
     "data": {
      "text/html": [
       "<div>\n",
       "<style scoped>\n",
       "    .dataframe tbody tr th:only-of-type {\n",
       "        vertical-align: middle;\n",
       "    }\n",
       "\n",
       "    .dataframe tbody tr th {\n",
       "        vertical-align: top;\n",
       "    }\n",
       "\n",
       "    .dataframe thead th {\n",
       "        text-align: right;\n",
       "    }\n",
       "</style>\n",
       "<table border=\"1\" class=\"dataframe\">\n",
       "  <thead>\n",
       "    <tr style=\"text-align: right;\">\n",
       "      <th></th>\n",
       "      <th>Sell</th>\n",
       "      <th>\"List\"</th>\n",
       "      <th>\"Living\"</th>\n",
       "      <th>\"Rooms\"</th>\n",
       "      <th>\"Beds\"</th>\n",
       "      <th>\"Baths\"</th>\n",
       "      <th>\"Age\"</th>\n",
       "      <th>\"Acres\"</th>\n",
       "      <th>\"Taxes\"</th>\n",
       "    </tr>\n",
       "  </thead>\n",
       "  <tbody>\n",
       "    <tr>\n",
       "      <th>0</th>\n",
       "      <td>142</td>\n",
       "      <td>160</td>\n",
       "      <td>28</td>\n",
       "      <td>10</td>\n",
       "      <td>5</td>\n",
       "      <td>3</td>\n",
       "      <td>60</td>\n",
       "      <td>0.28</td>\n",
       "      <td>3167</td>\n",
       "    </tr>\n",
       "    <tr>\n",
       "      <th>1</th>\n",
       "      <td>175</td>\n",
       "      <td>180</td>\n",
       "      <td>18</td>\n",
       "      <td>8</td>\n",
       "      <td>4</td>\n",
       "      <td>1</td>\n",
       "      <td>12</td>\n",
       "      <td>0.43</td>\n",
       "      <td>4033</td>\n",
       "    </tr>\n",
       "    <tr>\n",
       "      <th>2</th>\n",
       "      <td>129</td>\n",
       "      <td>132</td>\n",
       "      <td>13</td>\n",
       "      <td>6</td>\n",
       "      <td>3</td>\n",
       "      <td>1</td>\n",
       "      <td>41</td>\n",
       "      <td>0.33</td>\n",
       "      <td>1471</td>\n",
       "    </tr>\n",
       "    <tr>\n",
       "      <th>3</th>\n",
       "      <td>138</td>\n",
       "      <td>140</td>\n",
       "      <td>17</td>\n",
       "      <td>7</td>\n",
       "      <td>3</td>\n",
       "      <td>1</td>\n",
       "      <td>22</td>\n",
       "      <td>0.46</td>\n",
       "      <td>3204</td>\n",
       "    </tr>\n",
       "    <tr>\n",
       "      <th>4</th>\n",
       "      <td>232</td>\n",
       "      <td>240</td>\n",
       "      <td>25</td>\n",
       "      <td>8</td>\n",
       "      <td>4</td>\n",
       "      <td>3</td>\n",
       "      <td>5</td>\n",
       "      <td>2.05</td>\n",
       "      <td>3613</td>\n",
       "    </tr>\n",
       "  </tbody>\n",
       "</table>\n",
       "</div>"
      ],
      "text/plain": [
       "   Sell   \"List\"   \"Living\"   \"Rooms\"   \"Beds\"   \"Baths\"   \"Age\"   \"Acres\"  \\\n",
       "0   142      160         28        10        5         3      60      0.28   \n",
       "1   175      180         18         8        4         1      12      0.43   \n",
       "2   129      132         13         6        3         1      41      0.33   \n",
       "3   138      140         17         7        3         1      22      0.46   \n",
       "4   232      240         25         8        4         3       5      2.05   \n",
       "\n",
       "    \"Taxes\"  \n",
       "0      3167  \n",
       "1      4033  \n",
       "2      1471  \n",
       "3      3204  \n",
       "4      3613  "
      ]
     },
     "execution_count": 1,
     "metadata": {},
     "output_type": "execute_result"
    }
   ],
   "source": [
    "import pandas as pd\n",
    "df = pd.read_csv(\"https://people.sc.fsu.edu/~jburkardt/data/csv/homes.csv\")\n",
    "df.head()"
   ]
  },
  {
   "cell_type": "markdown",
   "metadata": {},
   "source": [
    "### March 28, 2019\n",
    "\n",
    "Jupyter Notebook and IPython allow wildcard matching to find applicable properties and methods of an object: "
   ]
  },
  {
   "cell_type": "code",
   "execution_count": 5,
   "metadata": {},
   "outputs": [],
   "source": [
    "import arcpy\n",
    "arcpy.FeatureTo*?"
   ]
  },
  {
   "cell_type": "markdown",
   "metadata": {},
   "source": [
    "### March 29, 2019\n",
    "\n",
    "Output large numbers in a legible way: "
   ]
  },
  {
   "cell_type": "code",
   "execution_count": 6,
   "metadata": {},
   "outputs": [
    {
     "data": {
      "text/plain": [
       "'123,123,123'"
      ]
     },
     "execution_count": 6,
     "metadata": {},
     "output_type": "execute_result"
    }
   ],
   "source": [
    "n = 123123123\n",
    "format(n, \",\") "
   ]
  },
  {
   "cell_type": "markdown",
   "metadata": {},
   "source": [
    "### April 1st, 2019\n",
    "\n",
    "The enumerate() function adds a counter to an iterable object (for example, a list of strings). Here's an example:"
   ]
  },
  {
   "cell_type": "code",
   "execution_count": 1,
   "metadata": {},
   "outputs": [
    {
     "name": "stdout",
     "output_type": "stream",
     "text": [
      "0 I\n",
      "1 love\n",
      "2 the\n",
      "3 University\n",
      "4 of\n",
      "5 Florida\n"
     ]
    }
   ],
   "source": [
    "# Make a list of items\n",
    "subjects = ('I', 'love', 'the', 'University', 'of', 'Florida')\n",
    "\n",
    "# Use a for loop and the enumerate() function to count the items in the list\n",
    "for i, subject in enumerate(subjects):\n",
    "    print(i, subject)"
   ]
  },
  {
   "cell_type": "markdown",
   "metadata": {},
   "source": [
    "### April 2nd, 2019\n",
    "\n",
    "A quick and easy way to generate Universally Unique IDs (or ‘UUIDs’) is through the Python Standard Library’s uuid module."
   ]
  },
  {
   "cell_type": "code",
   "execution_count": 6,
   "metadata": {},
   "outputs": [
    {
     "name": "stdout",
     "output_type": "stream",
     "text": [
      "94ea3f9a-b77f-4d2a-98b1-e49b2db915bf\n"
     ]
    }
   ],
   "source": [
    "import uuid\n",
    "user_id = uuid.uuid4()\n",
    "print(user_id)"
   ]
  },
  {
   "cell_type": "markdown",
   "metadata": {},
   "source": [
    "This creates a randomized 128-bit number that will almost certainly be unique.\n",
    "\n",
    "In fact, there are over 2¹²² possible UUIDs that can be generated. That’s over five undecillion (or 5,000,000,000,000,000,000,000,000,000,000,000,000).\n",
    "\n",
    "The probability of finding duplicates in a given set is extremely low. "
   ]
  },
  {
   "cell_type": "markdown",
   "metadata": {},
   "source": [
    "### April 3rd, 2019\n",
    "\n",
    "Reverse a string... for some reason. "
   ]
  },
  {
   "cell_type": "code",
   "execution_count": 26,
   "metadata": {},
   "outputs": [
    {
     "data": {
      "text/plain": [
       "'srotaG oG'"
      ]
     },
     "execution_count": 26,
     "metadata": {},
     "output_type": "execute_result"
    }
   ],
   "source": [
    "a = \"Go Gators\"\n",
    "a[::-1]"
   ]
  },
  {
   "cell_type": "markdown",
   "metadata": {},
   "source": [
    "Actually, this is more of a tip on the third parameter option for string slicing. Here's an example that returns every third string character:"
   ]
  },
  {
   "cell_type": "code",
   "execution_count": 28,
   "metadata": {},
   "outputs": [
    {
     "data": {
      "text/plain": [
       "'Fratenei is'"
      ]
     },
     "execution_count": 28,
     "metadata": {},
     "output_type": "execute_result"
    }
   ],
   "source": [
    "b = \"Florida State University stinks.\"\n",
    "b[::3]  "
   ]
  },
  {
   "cell_type": "markdown",
   "metadata": {},
   "source": [
    "### April 4th, 2019\n",
    "\n",
    "Here's a helper function to:\n",
    "\n",
    "- Use input spatially-enabled dataframe (\"data_sdf\")\n",
    "- Update a webmap widget extent (\"gis_map\") to the extent of the spatially-enabled dataframe\n",
    "\n",
    "provided a spatially-enabled dataframe \"data_sdf\", and a map-widget \"gis_map\", here's the code:"
   ]
  },
  {
   "cell_type": "code",
   "execution_count": null,
   "metadata": {},
   "outputs": [],
   "source": [
    "new_extent = {'spatialReference': {'latestWkid': 3857, 'wkid': 102100},\n",
    " 'xmin': data_sdf.spatial.full_extent[0],\n",
    " 'ymin': data_sdf.spatial.full_extent[1],\n",
    " 'xmax': data_sdf.spatial.full_extent[2],\n",
    " 'ymax': data_sdf.spatial.full_extent[3]}\n",
    "\n",
    "gis_map.extent = new_extent"
   ]
  },
  {
   "cell_type": "markdown",
   "metadata": {},
   "source": [
    "### April 5th, 2019\n",
    "\n",
    "this."
   ]
  },
  {
   "cell_type": "code",
   "execution_count": 8,
   "metadata": {},
   "outputs": [],
   "source": [
    "import this"
   ]
  },
  {
   "cell_type": "markdown",
   "metadata": {},
   "source": [
    "### April 6th, 2019"
   ]
  },
  {
   "cell_type": "markdown",
   "metadata": {},
   "source": [
    "@staticmethod\n",
    "def from_df(df, address_column=\"address\", geocoder=None, sr=None):\n",
    "    \"\"\"\n",
    "    Returns a SpatialDataFrame from a dataframe with an address column.\n",
    "    ====================    =========================================================\n",
    "    **Argument**            **Description**\n",
    "    --------------------    ---------------------------------------------------------\n",
    "    df                      Required Pandas DataFrame. Source dataset\n",
    "    --------------------    ---------------------------------------------------------\n",
    "    address_column          Optional String. The default is \"address\". This is the\n",
    "                            name of a column in the specified dataframe that contains\n",
    "                            addresses (as strings). The addresses are batch geocoded\n",
    "                            using the GIS's first configured geocoder and their\n",
    "                            locations used as the geometry of the spatial dataframe.\n",
    "                            Ignored if the 'geometry' parameter is also specified.\n",
    "    --------------------    ---------------------------------------------------------\n",
    "    geocoder                Optional Geocoder. The geocoder to be used. If not\n",
    "                            specified, the active GIS's first geocoder is used.\n",
    "    --------------------    ---------------------------------------------------------\n",
    "    sr                      Optional integer. The WKID of the spatial reference.\n",
    "    ====================    =========================================================\n",
    "    :returns: DataFrame"
   ]
  },
  {
   "cell_type": "markdown",
   "metadata": {},
   "source": [
    "@staticmethod\n",
    "def from_xy(df, x_column, y_column, sr=4326):\n",
    "    \"\"\"\n",
    "    Converts a Pandas DataFrame into a Spatial DataFrame by providing the X/Y columns.\n",
    "    ====================    =========================================================\n",
    "    **Argument**            **Description**\n",
    "    --------------------    ---------------------------------------------------------\n",
    "    df                      Required Pandas DataFrame. Source dataset\n",
    "    --------------------    ---------------------------------------------------------\n",
    "    x_column                Required string.  The name of the X-coordinate series\n",
    "    --------------------    ---------------------------------------------------------\n",
    "    y_column                Required string.  The name of the Y-coordinate series\n",
    "    --------------------    ---------------------------------------------------------\n",
    "    sr                      Optional int.  The wkid number of the spatial reference.\n",
    "                            4326 is the default value.\n",
    "    ====================    =========================================================\n",
    "    :returns: DataFrame\n",
    "    \"\"\"\n",
    "    from ._io.fileops import _from_xy\n",
    "    return _from_xy(df=df, x_column=x_column,\n",
    "                    y_column=y_column, sr=sr)"
   ]
  },
  {
   "cell_type": "markdown",
   "metadata": {},
   "source": [
    "@staticmethod\n",
    "def from_layer(layer):\n",
    "    \"\"\"\n",
    "    Imports a FeatureLayer to a Spatially Enabled DataFrame\n",
    "    This operation converts a FeatureLayer or TableLayer to a Pandas' DataFrame\n",
    "    ====================    =========================================================\n",
    "    **Argument**            **Description**\n",
    "    --------------------    ---------------------------------------------------------\n",
    "    layer                   Required FeatureLayer or TableLayer. The service to convert\n",
    "                            to a Spatially enabled DataFrame.\n",
    "    ====================    =========================================================\n",
    "    Usage:\n",
    "    >>> from arcgis.features import FeatureLayer\n",
    "    >>> mylayer = FeatureLayer((\"https://sampleserver6.arcgisonline.com/arcgis/rest\"\n",
    "                        \"/services/CommercialDamageAssessment/FeatureServer/0\"))\n",
    "    >>> df = from_layer(mylayer)\n",
    "    >>> print(df.head())\n",
    "    :returns: Pandas' `DataFrame`\n",
    "    \"\"\""
   ]
  },
  {
   "cell_type": "markdown",
   "metadata": {},
   "source": [
    "@staticmethod\n",
    "def from_featureclass(location, **kwargs):\n",
    "    \"\"\"\n",
    "    Returns a Spatially enbaled `pandas.DataFrame` from a feature class.\n",
    "    ====================    =========================================================\n",
    "    **Argument**            **Description**\n",
    "    --------------------    ---------------------------------------------------------\n",
    "    location                Required String. The full qualified path to the feature\n",
    "                            class.\n",
    "    ====================    =========================================================\n",
    "    :returns: Pandas' `DataFrame`\n",
    "    \"\"\"\n",
    "    return from_featureclass(filename=location, **kwargs)"
   ]
  },
  {
   "cell_type": "markdown",
   "metadata": {},
   "source": [
    "@staticmethod\n",
    "def from_table(filename, **kwargs):\n",
    "    \"\"\"\n",
    "        Allows a user to read from a non-spatial table\n",
    "        **Note: ArcPy is Required for this method**\n",
    "        ===============     ====================================================\n",
    "        **Argument**        **Description**\n",
    "        ---------------     ----------------------------------------------------\n",
    "        filename            Required string. The path to the table.\n",
    "        ===============     ====================================================\n",
    "        **Keyword Arguments**\n",
    "        ===============     ====================================================\n",
    "        **Argument**        **Description**\n",
    "        ---------------     ----------------------------------------------------\n",
    "        fields              Optional List/Tuple. A list (or tuple) of field\n",
    "                            names. For a single field, you can use a string\n",
    "                            instead of a list of strings.\n",
    "                            Use an asterisk (*) instead of a list of fields if\n",
    "                            you want to access all fields from the input table\n",
    "                            (raster and BLOB fields are excluded). However, for\n",
    "                            faster performance and reliable field order, it is\n",
    "                            recommended that the list of fields be narrowed to\n",
    "                            only those that are actually needed.\n",
    "                            Geometry, raster, and BLOB fields are not supported.\n",
    "        ---------------     ----------------------------------------------------\n",
    "        where               Optional String. An optional expression that limits\n",
    "                            the records returned.\n",
    "        ---------------     ----------------------------------------------------\n",
    "        skip_nulls          Optional Boolean. This controls whether records\n",
    "                            using nulls are skipped.\n",
    "        ---------------     ----------------------------------------------------\n",
    "        null_value          Optional String/Integer/Float. Replaces null values\n",
    "                            from the input with a new value.\n",
    "        ===============     ====================================================\n",
    "        :returns: pd.DataFrame\n",
    "    \"\"\""
   ]
  },
  {
   "cell_type": "markdown",
   "metadata": {},
   "source": [
    "### April 10, 2019"
   ]
  },
  {
   "cell_type": "markdown",
   "metadata": {},
   "source": [
    "https://realpython.com/python-f-strings/"
   ]
  },
  {
   "cell_type": "code",
   "execution_count": 3,
   "metadata": {},
   "outputs": [
    {
     "data": {
      "text/plain": [
       "'Why did the dot go to college? To become a graduated symbol'"
      ]
     },
     "execution_count": 3,
     "metadata": {},
     "output_type": "execute_result"
    }
   ],
   "source": [
    "answer = \"To become a graduated symbol\"\n",
    "\n",
    "f\"Why did the dot go to college? {answer}\""
   ]
  },
  {
   "cell_type": "markdown",
   "metadata": {},
   "source": [
    "### April 11, 2019"
   ]
  },
  {
   "cell_type": "markdown",
   "metadata": {},
   "source": [
    "https://realpython.com/python-f-strings/"
   ]
  },
  {
   "cell_type": "code",
   "execution_count": 11,
   "metadata": {},
   "outputs": [],
   "source": [
    "def to_lowercase(input):\n",
    "    return input.lower()"
   ]
  },
  {
   "cell_type": "code",
   "execution_count": 12,
   "metadata": {},
   "outputs": [],
   "source": [
    "random_string_one = \"University of Florida\""
   ]
  },
  {
   "cell_type": "code",
   "execution_count": 13,
   "metadata": {},
   "outputs": [
    {
     "data": {
      "text/plain": [
       "'UNIVERSITY OF FLORIDA'"
      ]
     },
     "execution_count": 13,
     "metadata": {},
     "output_type": "execute_result"
    }
   ],
   "source": [
    "f\"{random_string_one.upper()}\""
   ]
  },
  {
   "cell_type": "code",
   "execution_count": 47,
   "metadata": {},
   "outputs": [
    {
     "name": "stdout",
     "output_type": "stream",
     "text": [
      "Enter password: ········\n"
     ]
    }
   ],
   "source": [
    "import arcgis\n",
    "gis = arcgis.gis.GIS(\"https://esrifederal.maps.arcgis.com\", username=\"Anieto_esrifederal\")"
   ]
  },
  {
   "cell_type": "code",
   "execution_count": 48,
   "metadata": {},
   "outputs": [],
   "source": [
    "def convert_unix_timestamp_to_legible_date(timestamp):\n",
    "    from datetime import datetime\n",
    "    ts = int(str(timestamp)[:10])\n",
    "    return datetime.utcfromtimestamp(ts).strftime('%Y-%m-%d %H:%M:%S')"
   ]
  },
  {
   "cell_type": "code",
   "execution_count": 49,
   "metadata": {},
   "outputs": [
    {
     "data": {
      "text/plain": [
       "'The last timestamp that the user signed in to https://esrifederal.maps.arcgis.com is 2019-04-15 13:06:28'"
      ]
     },
     "execution_count": 49,
     "metadata": {},
     "output_type": "execute_result"
    }
   ],
   "source": [
    "f\"The last timestamp that the user signed in to {gis.url} is {convert_unix_timestamp_to_legible_date(gis.users.me.lastLogin)}\""
   ]
  },
  {
   "cell_type": "markdown",
   "metadata": {},
   "source": [
    "### April 12, 2019"
   ]
  },
  {
   "cell_type": "markdown",
   "metadata": {},
   "source": [
    "Print the file path of imported modules:"
   ]
  },
  {
   "cell_type": "code",
   "execution_count": 3,
   "metadata": {},
   "outputs": [
    {
     "name": "stdout",
     "output_type": "stream",
     "text": [
      "<module 'os' from 'C:\\\\ProgramData\\\\Anaconda3\\\\lib\\\\os.py'>\n",
      "<module 'arcgis' from 'C:\\\\ProgramData\\\\Anaconda3\\\\lib\\\\site-packages\\\\arcgis\\\\__init__.py'>\n"
     ]
    }
   ],
   "source": [
    "import os; \n",
    "import arcgis; \n",
    "  \n",
    "print(os) \n",
    "print(arcgis) "
   ]
  },
  {
   "cell_type": "markdown",
   "metadata": {},
   "source": [
    "### April 15, 2019"
   ]
  },
  {
   "cell_type": "markdown",
   "metadata": {},
   "source": [
    "https://medium.freecodecamp.org/an-a-z-of-useful-python-tricks-b467524ee747"
   ]
  },
  {
   "cell_type": "code",
   "execution_count": 4,
   "metadata": {},
   "outputs": [],
   "source": [
    "from collections import OrderedDict, Counter\n",
    "# Counts the frequency of each character\n",
    "y = Counter(\"Hello World!\")"
   ]
  },
  {
   "cell_type": "code",
   "execution_count": 5,
   "metadata": {},
   "outputs": [
    {
     "data": {
      "text/plain": [
       "Counter({' ': 1,\n",
       "         '!': 1,\n",
       "         'H': 1,\n",
       "         'W': 1,\n",
       "         'd': 1,\n",
       "         'e': 1,\n",
       "         'l': 3,\n",
       "         'o': 2,\n",
       "         'r': 1})"
      ]
     },
     "execution_count": 5,
     "metadata": {},
     "output_type": "execute_result"
    }
   ],
   "source": [
    "y"
   ]
  },
  {
   "cell_type": "markdown",
   "metadata": {},
   "source": [
    "### April 15, 2019"
   ]
  },
  {
   "cell_type": "code",
   "execution_count": 1,
   "metadata": {},
   "outputs": [
    {
     "name": "stdout",
     "output_type": "stream",
     "text": [
      "10 20\n",
      "20 10\n"
     ]
    }
   ],
   "source": [
    "x, y = 10, 20\n",
    "print(x, y) \n",
    "x, y = y, x \n",
    "print(x, y) "
   ]
  },
  {
   "cell_type": "markdown",
   "metadata": {},
   "source": [
    "### April 18, 2019"
   ]
  },
  {
   "cell_type": "code",
   "execution_count": 1,
   "metadata": {},
   "outputs": [
    {
     "name": "stdout",
     "output_type": "stream",
     "text": [
      "Collecting emoji\n",
      "  Downloading https://files.pythonhosted.org/packages/6c/ee/8cc0af26113508c8513dac40b1990b21d1d0136b3981a8b7b8a231a56c8d/emoji-0.5.2-py3-none-any.whl (41kB)\n",
      "Installing collected packages: emoji\n",
      "Successfully installed emoji-0.5.2\n"
     ]
    },
    {
     "name": "stderr",
     "output_type": "stream",
     "text": [
      "You are using pip version 18.1, however version 19.0.3 is available.\n",
      "You should consider upgrading via the 'python -m pip install --upgrade pip' command.\n"
     ]
    }
   ],
   "source": [
    "!pip install emoji"
   ]
  },
  {
   "cell_type": "code",
   "execution_count": 5,
   "metadata": {},
   "outputs": [
    {
     "name": "stdout",
     "output_type": "stream",
     "text": [
      "👍\n"
     ]
    }
   ],
   "source": [
    "from emoji import emojize\n",
    "print(emojize(\":thumbs_up:\"))"
   ]
  },
  {
   "cell_type": "markdown",
   "metadata": {},
   "source": [
    "### April 19, 2019"
   ]
  },
  {
   "cell_type": "code",
   "execution_count": 1,
   "metadata": {
    "scrolled": true
   },
   "outputs": [
    {
     "data": {
      "text/plain": [
       "['In',\n",
       " 'Out',\n",
       " '_',\n",
       " '__',\n",
       " '___',\n",
       " '__builtin__',\n",
       " '__builtins__',\n",
       " '__doc__',\n",
       " '__loader__',\n",
       " '__name__',\n",
       " '__package__',\n",
       " '__spec__',\n",
       " '_dh',\n",
       " '_i',\n",
       " '_i1',\n",
       " '_ih',\n",
       " '_ii',\n",
       " '_iii',\n",
       " '_oh',\n",
       " '_sh',\n",
       " 'exit',\n",
       " 'get_ipython',\n",
       " 'quit']"
      ]
     },
     "execution_count": 1,
     "metadata": {},
     "output_type": "execute_result"
    }
   ],
   "source": [
    "dir()"
   ]
  },
  {
   "cell_type": "code",
   "execution_count": 2,
   "metadata": {
    "scrolled": true
   },
   "outputs": [
    {
     "data": {
      "text/plain": [
       "['__add__',\n",
       " '__class__',\n",
       " '__contains__',\n",
       " '__delattr__',\n",
       " '__dir__',\n",
       " '__doc__',\n",
       " '__eq__',\n",
       " '__format__',\n",
       " '__ge__',\n",
       " '__getattribute__',\n",
       " '__getitem__',\n",
       " '__getnewargs__',\n",
       " '__gt__',\n",
       " '__hash__',\n",
       " '__init__',\n",
       " '__init_subclass__',\n",
       " '__iter__',\n",
       " '__le__',\n",
       " '__len__',\n",
       " '__lt__',\n",
       " '__mod__',\n",
       " '__mul__',\n",
       " '__ne__',\n",
       " '__new__',\n",
       " '__reduce__',\n",
       " '__reduce_ex__',\n",
       " '__repr__',\n",
       " '__rmod__',\n",
       " '__rmul__',\n",
       " '__setattr__',\n",
       " '__sizeof__',\n",
       " '__str__',\n",
       " '__subclasshook__',\n",
       " 'capitalize',\n",
       " 'casefold',\n",
       " 'center',\n",
       " 'count',\n",
       " 'encode',\n",
       " 'endswith',\n",
       " 'expandtabs',\n",
       " 'find',\n",
       " 'format',\n",
       " 'format_map',\n",
       " 'index',\n",
       " 'isalnum',\n",
       " 'isalpha',\n",
       " 'isdecimal',\n",
       " 'isdigit',\n",
       " 'isidentifier',\n",
       " 'islower',\n",
       " 'isnumeric',\n",
       " 'isprintable',\n",
       " 'isspace',\n",
       " 'istitle',\n",
       " 'isupper',\n",
       " 'join',\n",
       " 'ljust',\n",
       " 'lower',\n",
       " 'lstrip',\n",
       " 'maketrans',\n",
       " 'partition',\n",
       " 'replace',\n",
       " 'rfind',\n",
       " 'rindex',\n",
       " 'rjust',\n",
       " 'rpartition',\n",
       " 'rsplit',\n",
       " 'rstrip',\n",
       " 'split',\n",
       " 'splitlines',\n",
       " 'startswith',\n",
       " 'strip',\n",
       " 'swapcase',\n",
       " 'title',\n",
       " 'translate',\n",
       " 'upper',\n",
       " 'zfill']"
      ]
     },
     "execution_count": 2,
     "metadata": {},
     "output_type": "execute_result"
    }
   ],
   "source": [
    "dir(\"Hello World\")"
   ]
  },
  {
   "cell_type": "code",
   "execution_count": 4,
   "metadata": {},
   "outputs": [],
   "source": [
    "import arcgis\n",
    "gis = arcgis.gis.GIS()"
   ]
  },
  {
   "cell_type": "markdown",
   "metadata": {},
   "source": [
    "### April 23, 2019"
   ]
  },
  {
   "cell_type": "code",
   "execution_count": 1,
   "metadata": {},
   "outputs": [
    {
     "name": "stdout",
     "output_type": "stream",
     "text": [
      "{'results': [{'gender': 'male', 'name': {'title': 'mr', 'first': 'christopher', 'last': 'thingstad'}, 'location': {'street': 'margrethe parms vei 9027', 'city': 'svarstad', 'state': 'bergen', 'postcode': '2930', 'coordinates': {'latitude': '53.4362', 'longitude': '-37.9003'}, 'timezone': {'offset': '+3:00', 'description': 'Baghdad, Riyadh, Moscow, St. Petersburg'}}, 'email': 'christopher.thingstad@example.com', 'login': {'uuid': '2d868c1c-1c1a-459e-9af6-6827bdd05da3', 'username': 'yellowgorilla481', 'password': 'peterpan', 'salt': 'fWgNwK3u', 'md5': 'a965f9e4a498eba3d74629e3d198906a', 'sha1': 'b8f62a55558bd2e1159efc9445dfe9529eb0b5f3', 'sha256': '17e93223415869b1e8f278e247451d8863d57f8a172f23450179be05ea6ce5db'}, 'dob': {'date': '1971-12-21T00:09:03Z', 'age': 47}, 'registered': {'date': '2004-09-30T11:58:54Z', 'age': 14}, 'phone': '78803862', 'cell': '45940940', 'id': {'name': 'FN', 'value': '21127137428'}, 'picture': {'large': 'https://randomuser.me/api/portraits/men/45.jpg', 'medium': 'https://randomuser.me/api/portraits/med/men/45.jpg', 'thumbnail': 'https://randomuser.me/api/portraits/thumb/men/45.jpg'}, 'nat': 'NO'}], 'info': {'seed': 'd99c09f0e5ba8331', 'results': 1, 'page': 1, 'version': '1.2'}}\n"
     ]
    }
   ],
   "source": [
    "import requests\n",
    "url = 'https://randomuser.me/api/?results=1'\n",
    "users = requests.get(url).json()\n",
    "print(users)"
   ]
  },
  {
   "cell_type": "code",
   "execution_count": 2,
   "metadata": {},
   "outputs": [
    {
     "name": "stdout",
     "output_type": "stream",
     "text": [
      "{'info': {'page': 1,\n",
      "          'results': 1,\n",
      "          'seed': 'd99c09f0e5ba8331',\n",
      "          'version': '1.2'},\n",
      " 'results': [{'cell': '45940940',\n",
      "              'dob': {'age': 47, 'date': '1971-12-21T00:09:03Z'},\n",
      "              'email': 'christopher.thingstad@example.com',\n",
      "              'gender': 'male',\n",
      "              'id': {'name': 'FN', 'value': '21127137428'},\n",
      "              'location': {'city': 'svarstad',\n",
      "                           'coordinates': {'latitude': '53.4362',\n",
      "                                           'longitude': '-37.9003'},\n",
      "                           'postcode': '2930',\n",
      "                           'state': 'bergen',\n",
      "                           'street': 'margrethe parms vei 9027',\n",
      "                           'timezone': {'description': 'Baghdad, Riyadh, '\n",
      "                                                       'Moscow, St. Petersburg',\n",
      "                                        'offset': '+3:00'}},\n",
      "              'login': {'md5': 'a965f9e4a498eba3d74629e3d198906a',\n",
      "                        'password': 'peterpan',\n",
      "                        'salt': 'fWgNwK3u',\n",
      "                        'sha1': 'b8f62a55558bd2e1159efc9445dfe9529eb0b5f3',\n",
      "                        'sha256': '17e93223415869b1e8f278e247451d8863d57f8a172f23450179be05ea6ce5db',\n",
      "                        'username': 'yellowgorilla481',\n",
      "                        'uuid': '2d868c1c-1c1a-459e-9af6-6827bdd05da3'},\n",
      "              'name': {'first': 'christopher',\n",
      "                       'last': 'thingstad',\n",
      "                       'title': 'mr'},\n",
      "              'nat': 'NO',\n",
      "              'phone': '78803862',\n",
      "              'picture': {'large': 'https://randomuser.me/api/portraits/men/45.jpg',\n",
      "                          'medium': 'https://randomuser.me/api/portraits/med/men/45.jpg',\n",
      "                          'thumbnail': 'https://randomuser.me/api/portraits/thumb/men/45.jpg'},\n",
      "              'registered': {'age': 14, 'date': '2004-09-30T11:58:54Z'}}]}\n"
     ]
    }
   ],
   "source": [
    "import pprint\n",
    "pprint.pprint(users)"
   ]
  },
  {
   "cell_type": "markdown",
   "metadata": {},
   "source": [
    "### April 26, 2019"
   ]
  },
  {
   "cell_type": "code",
   "execution_count": 2,
   "metadata": {},
   "outputs": [],
   "source": [
    "import antigravity"
   ]
  },
  {
   "cell_type": "markdown",
   "metadata": {},
   "source": [
    "### May 6th, 2019"
   ]
  },
  {
   "cell_type": "code",
   "execution_count": 2,
   "metadata": {},
   "outputs": [
    {
     "name": "stdout",
     "output_type": "stream",
     "text": [
      "{'a': 1, 'b': 2, 'c': 3}\n"
     ]
    }
   ],
   "source": [
    "keys = ['a', 'b', 'c']\n",
    "vals = [1, 2, 3]\n",
    "zipped = dict(zip(keys, vals))\n",
    "print(zipped)"
   ]
  },
  {
   "cell_type": "markdown",
   "metadata": {},
   "source": [
    "### May 8th, 2019"
   ]
  },
  {
   "cell_type": "code",
   "execution_count": 6,
   "metadata": {},
   "outputs": [
    {
     "data": {
      "text/plain": [
       "0.0032715087577344093"
      ]
     },
     "execution_count": 6,
     "metadata": {},
     "output_type": "execute_result"
    }
   ],
   "source": [
    "import timeit\n",
    "timeit.timeit(\"3**89\", number=10000)"
   ]
  },
  {
   "cell_type": "code",
   "execution_count": 7,
   "metadata": {},
   "outputs": [
    {
     "data": {
      "text/plain": [
       "0.006278325948315455"
      ]
     },
     "execution_count": 7,
     "metadata": {},
     "output_type": "execute_result"
    }
   ],
   "source": [
    "timeit.timeit(\"pow(3, 89)\", number=10000)"
   ]
  },
  {
   "cell_type": "markdown",
   "metadata": {},
   "source": [
    "### Misc - Bugs\n",
    "\n",
    "Translate to spanish helper function:"
   ]
  },
  {
   "cell_type": "code",
   "execution_count": 11,
   "metadata": {},
   "outputs": [],
   "source": [
    "def translate_to_spanish(english_input):\n",
    "    \n",
    "    from googletrans import Translator\n",
    "    \n",
    "    translator = Translator()\n",
    "    if english_input != \"NaN\" and english_input != \"None\":\n",
    "        output = translator.translate(str(english_input), dest='es')\n",
    "        return(output.text)\n",
    "    else:\n",
    "        return None"
   ]
  }
 ],
 "metadata": {
  "kernelspec": {
   "display_name": "Python 3",
   "language": "python",
   "name": "python3"
  },
  "language_info": {
   "codemirror_mode": {
    "name": "ipython",
    "version": 3
   },
   "file_extension": ".py",
   "mimetype": "text/x-python",
   "name": "python",
   "nbconvert_exporter": "python",
   "pygments_lexer": "ipython3",
   "version": "3.6.8"
  }
 },
 "nbformat": 4,
 "nbformat_minor": 2
}
