{
 "cells": [
  {
   "cell_type": "markdown",
   "metadata": {},
   "source": [
    "### March 27, 2019\n",
    "\n",
    "Pandas' read_csv method can use URLs as an input for the \"filepath\" parameter. This lets you pass a csv hosted in a web resource as a direct input to a dataframe without having to download it. Here's an example: "
   ]
  },
  {
   "cell_type": "code",
   "execution_count": 1,
   "metadata": {},
   "outputs": [
    {
     "data": {
      "text/html": [
       "<div>\n",
       "<style scoped>\n",
       "    .dataframe tbody tr th:only-of-type {\n",
       "        vertical-align: middle;\n",
       "    }\n",
       "\n",
       "    .dataframe tbody tr th {\n",
       "        vertical-align: top;\n",
       "    }\n",
       "\n",
       "    .dataframe thead th {\n",
       "        text-align: right;\n",
       "    }\n",
       "</style>\n",
       "<table border=\"1\" class=\"dataframe\">\n",
       "  <thead>\n",
       "    <tr style=\"text-align: right;\">\n",
       "      <th></th>\n",
       "      <th>Sell</th>\n",
       "      <th>\"List\"</th>\n",
       "      <th>\"Living\"</th>\n",
       "      <th>\"Rooms\"</th>\n",
       "      <th>\"Beds\"</th>\n",
       "      <th>\"Baths\"</th>\n",
       "      <th>\"Age\"</th>\n",
       "      <th>\"Acres\"</th>\n",
       "      <th>\"Taxes\"</th>\n",
       "    </tr>\n",
       "  </thead>\n",
       "  <tbody>\n",
       "    <tr>\n",
       "      <th>0</th>\n",
       "      <td>142</td>\n",
       "      <td>160</td>\n",
       "      <td>28</td>\n",
       "      <td>10</td>\n",
       "      <td>5</td>\n",
       "      <td>3</td>\n",
       "      <td>60</td>\n",
       "      <td>0.28</td>\n",
       "      <td>3167</td>\n",
       "    </tr>\n",
       "    <tr>\n",
       "      <th>1</th>\n",
       "      <td>175</td>\n",
       "      <td>180</td>\n",
       "      <td>18</td>\n",
       "      <td>8</td>\n",
       "      <td>4</td>\n",
       "      <td>1</td>\n",
       "      <td>12</td>\n",
       "      <td>0.43</td>\n",
       "      <td>4033</td>\n",
       "    </tr>\n",
       "    <tr>\n",
       "      <th>2</th>\n",
       "      <td>129</td>\n",
       "      <td>132</td>\n",
       "      <td>13</td>\n",
       "      <td>6</td>\n",
       "      <td>3</td>\n",
       "      <td>1</td>\n",
       "      <td>41</td>\n",
       "      <td>0.33</td>\n",
       "      <td>1471</td>\n",
       "    </tr>\n",
       "    <tr>\n",
       "      <th>3</th>\n",
       "      <td>138</td>\n",
       "      <td>140</td>\n",
       "      <td>17</td>\n",
       "      <td>7</td>\n",
       "      <td>3</td>\n",
       "      <td>1</td>\n",
       "      <td>22</td>\n",
       "      <td>0.46</td>\n",
       "      <td>3204</td>\n",
       "    </tr>\n",
       "    <tr>\n",
       "      <th>4</th>\n",
       "      <td>232</td>\n",
       "      <td>240</td>\n",
       "      <td>25</td>\n",
       "      <td>8</td>\n",
       "      <td>4</td>\n",
       "      <td>3</td>\n",
       "      <td>5</td>\n",
       "      <td>2.05</td>\n",
       "      <td>3613</td>\n",
       "    </tr>\n",
       "  </tbody>\n",
       "</table>\n",
       "</div>"
      ],
      "text/plain": [
       "   Sell   \"List\"   \"Living\"   \"Rooms\"   \"Beds\"   \"Baths\"   \"Age\"   \"Acres\"  \\\n",
       "0   142      160         28        10        5         3      60      0.28   \n",
       "1   175      180         18         8        4         1      12      0.43   \n",
       "2   129      132         13         6        3         1      41      0.33   \n",
       "3   138      140         17         7        3         1      22      0.46   \n",
       "4   232      240         25         8        4         3       5      2.05   \n",
       "\n",
       "    \"Taxes\"  \n",
       "0      3167  \n",
       "1      4033  \n",
       "2      1471  \n",
       "3      3204  \n",
       "4      3613  "
      ]
     },
     "execution_count": 1,
     "metadata": {},
     "output_type": "execute_result"
    }
   ],
   "source": [
    "import pandas as pd\n",
    "df = pd.read_csv(\"https://people.sc.fsu.edu/~jburkardt/data/csv/homes.csv\")\n",
    "df.head()"
   ]
  },
  {
   "cell_type": "markdown",
   "metadata": {},
   "source": [
    "### March 28, 2019\n",
    "\n",
    "Jupyter Notebook and IPython allow wildcard matching to find applicable properties and methods of an object: "
   ]
  },
  {
   "cell_type": "code",
   "execution_count": 5,
   "metadata": {},
   "outputs": [],
   "source": [
    "import arcpy\n",
    "arcpy.FeatureTo*?"
   ]
  },
  {
   "cell_type": "markdown",
   "metadata": {},
   "source": [
    "### March 29, 2019\n",
    "\n",
    "Output large numbers in a legible way: "
   ]
  },
  {
   "cell_type": "code",
   "execution_count": 6,
   "metadata": {},
   "outputs": [
    {
     "data": {
      "text/plain": [
       "'123,123,123'"
      ]
     },
     "execution_count": 6,
     "metadata": {},
     "output_type": "execute_result"
    }
   ],
   "source": [
    "n = 123123123\n",
    "format(n, \",\") "
   ]
  },
  {
   "cell_type": "markdown",
   "metadata": {},
   "source": [
    "### April 1st, 2019\n",
    "\n",
    "The enumerate() function adds a counter to an iterable object (for example, a list of strings). Here's an example:"
   ]
  },
  {
   "cell_type": "code",
   "execution_count": 1,
   "metadata": {},
   "outputs": [
    {
     "name": "stdout",
     "output_type": "stream",
     "text": [
      "0 I\n",
      "1 love\n",
      "2 the\n",
      "3 University\n",
      "4 of\n",
      "5 Florida\n"
     ]
    }
   ],
   "source": [
    "# Make a list of items\n",
    "subjects = ('I', 'love', 'the', 'University', 'of', 'Florida')\n",
    "\n",
    "# Use a for loop and the enumerate() function to count the items in the list\n",
    "for i, subject in enumerate(subjects):\n",
    "    print(i, subject)"
   ]
  },
  {
   "cell_type": "markdown",
   "metadata": {},
   "source": [
    "### April 2nd, 2019\n",
    "\n",
    "A quick and easy way to generate Universally Unique IDs (or ‘UUIDs’) is through the Python Standard Library’s uuid module."
   ]
  },
  {
   "cell_type": "code",
   "execution_count": 6,
   "metadata": {},
   "outputs": [
    {
     "name": "stdout",
     "output_type": "stream",
     "text": [
      "94ea3f9a-b77f-4d2a-98b1-e49b2db915bf\n"
     ]
    }
   ],
   "source": [
    "import uuid\n",
    "user_id = uuid.uuid4()\n",
    "print(user_id)"
   ]
  },
  {
   "cell_type": "markdown",
   "metadata": {},
   "source": [
    "This creates a randomized 128-bit number that will almost certainly be unique.\n",
    "\n",
    "In fact, there are over 2¹²² possible UUIDs that can be generated. That’s over five undecillion (or 5,000,000,000,000,000,000,000,000,000,000,000,000).\n",
    "\n",
    "The probability of finding duplicates in a given set is extremely low. "
   ]
  },
  {
   "cell_type": "markdown",
   "metadata": {},
   "source": [
    "### April 3rd, 2019\n",
    "\n",
    "Reverse a string... for some reason. "
   ]
  },
  {
   "cell_type": "code",
   "execution_count": 26,
   "metadata": {},
   "outputs": [
    {
     "data": {
      "text/plain": [
       "'srotaG oG'"
      ]
     },
     "execution_count": 26,
     "metadata": {},
     "output_type": "execute_result"
    }
   ],
   "source": [
    "a = \"Go Gators\"\n",
    "a[::-1]"
   ]
  },
  {
   "cell_type": "markdown",
   "metadata": {},
   "source": [
    "Actually, this is more of a tip on the third parameter option for string slicing. Here's an example that returns every third string character:"
   ]
  },
  {
   "cell_type": "code",
   "execution_count": 28,
   "metadata": {},
   "outputs": [
    {
     "data": {
      "text/plain": [
       "'Fratenei is'"
      ]
     },
     "execution_count": 28,
     "metadata": {},
     "output_type": "execute_result"
    }
   ],
   "source": [
    "b = \"Florida State University stinks.\"\n",
    "b[::3]  "
   ]
  },
  {
   "cell_type": "markdown",
   "metadata": {},
   "source": [
    "### April 4th, 2019\n",
    "\n",
    "Here's a helper function to:\n",
    "\n",
    "- Use input spatially-enabled dataframe (\"data_sdf\")\n",
    "- Update a webmap widget extent (\"gis_map\") to the extent of the spatially-enabled dataframe\n",
    "\n",
    "provided a spatially-enabled dataframe \"data_sdf\", and a map-widget \"gis_map\", here's the code:"
   ]
  },
  {
   "cell_type": "code",
   "execution_count": null,
   "metadata": {},
   "outputs": [],
   "source": [
    "new_extent = {'spatialReference': {'latestWkid': 3857, 'wkid': 102100},\n",
    " 'xmin': data_sdf.spatial.full_extent[0],\n",
    " 'ymin': data_sdf.spatial.full_extent[1],\n",
    " 'xmax': data_sdf.spatial.full_extent[2],\n",
    " 'ymax': data_sdf.spatial.full_extent[3]}\n",
    "\n",
    "gis_map.extent = new_extent"
   ]
  },
  {
   "cell_type": "markdown",
   "metadata": {},
   "source": [
    "### April 5th, 2019\n",
    "\n",
    "this."
   ]
  },
  {
   "cell_type": "code",
   "execution_count": 8,
   "metadata": {},
   "outputs": [],
   "source": [
    "import this"
   ]
  },
  {
   "cell_type": "markdown",
   "metadata": {},
   "source": [
    "### April 6th, 2019"
   ]
  },
  {
   "cell_type": "markdown",
   "metadata": {},
   "source": [
    "@staticmethod\n",
    "def from_df(df, address_column=\"address\", geocoder=None, sr=None):\n",
    "    \"\"\"\n",
    "    Returns a SpatialDataFrame from a dataframe with an address column.\n",
    "    ====================    =========================================================\n",
    "    **Argument**            **Description**\n",
    "    --------------------    ---------------------------------------------------------\n",
    "    df                      Required Pandas DataFrame. Source dataset\n",
    "    --------------------    ---------------------------------------------------------\n",
    "    address_column          Optional String. The default is \"address\". This is the\n",
    "                            name of a column in the specified dataframe that contains\n",
    "                            addresses (as strings). The addresses are batch geocoded\n",
    "                            using the GIS's first configured geocoder and their\n",
    "                            locations used as the geometry of the spatial dataframe.\n",
    "                            Ignored if the 'geometry' parameter is also specified.\n",
    "    --------------------    ---------------------------------------------------------\n",
    "    geocoder                Optional Geocoder. The geocoder to be used. If not\n",
    "                            specified, the active GIS's first geocoder is used.\n",
    "    --------------------    ---------------------------------------------------------\n",
    "    sr                      Optional integer. The WKID of the spatial reference.\n",
    "    ====================    =========================================================\n",
    "    :returns: DataFrame"
   ]
  },
  {
   "cell_type": "markdown",
   "metadata": {},
   "source": [
    "@staticmethod\n",
    "def from_xy(df, x_column, y_column, sr=4326):\n",
    "    \"\"\"\n",
    "    Converts a Pandas DataFrame into a Spatial DataFrame by providing the X/Y columns.\n",
    "    ====================    =========================================================\n",
    "    **Argument**            **Description**\n",
    "    --------------------    ---------------------------------------------------------\n",
    "    df                      Required Pandas DataFrame. Source dataset\n",
    "    --------------------    ---------------------------------------------------------\n",
    "    x_column                Required string.  The name of the X-coordinate series\n",
    "    --------------------    ---------------------------------------------------------\n",
    "    y_column                Required string.  The name of the Y-coordinate series\n",
    "    --------------------    ---------------------------------------------------------\n",
    "    sr                      Optional int.  The wkid number of the spatial reference.\n",
    "                            4326 is the default value.\n",
    "    ====================    =========================================================\n",
    "    :returns: DataFrame\n",
    "    \"\"\"\n",
    "    from ._io.fileops import _from_xy\n",
    "    return _from_xy(df=df, x_column=x_column,\n",
    "                    y_column=y_column, sr=sr)"
   ]
  },
  {
   "cell_type": "markdown",
   "metadata": {},
   "source": [
    "@staticmethod\n",
    "def from_layer(layer):\n",
    "    \"\"\"\n",
    "    Imports a FeatureLayer to a Spatially Enabled DataFrame\n",
    "    This operation converts a FeatureLayer or TableLayer to a Pandas' DataFrame\n",
    "    ====================    =========================================================\n",
    "    **Argument**            **Description**\n",
    "    --------------------    ---------------------------------------------------------\n",
    "    layer                   Required FeatureLayer or TableLayer. The service to convert\n",
    "                            to a Spatially enabled DataFrame.\n",
    "    ====================    =========================================================\n",
    "    Usage:\n",
    "    >>> from arcgis.features import FeatureLayer\n",
    "    >>> mylayer = FeatureLayer((\"https://sampleserver6.arcgisonline.com/arcgis/rest\"\n",
    "                        \"/services/CommercialDamageAssessment/FeatureServer/0\"))\n",
    "    >>> df = from_layer(mylayer)\n",
    "    >>> print(df.head())\n",
    "    :returns: Pandas' `DataFrame`\n",
    "    \"\"\""
   ]
  },
  {
   "cell_type": "markdown",
   "metadata": {},
   "source": [
    "@staticmethod\n",
    "def from_featureclass(location, **kwargs):\n",
    "    \"\"\"\n",
    "    Returns a Spatially enbaled `pandas.DataFrame` from a feature class.\n",
    "    ====================    =========================================================\n",
    "    **Argument**            **Description**\n",
    "    --------------------    ---------------------------------------------------------\n",
    "    location                Required String. The full qualified path to the feature\n",
    "                            class.\n",
    "    ====================    =========================================================\n",
    "    :returns: Pandas' `DataFrame`\n",
    "    \"\"\"\n",
    "    return from_featureclass(filename=location, **kwargs)"
   ]
  },
  {
   "cell_type": "markdown",
   "metadata": {},
   "source": [
    "@staticmethod\n",
    "def from_table(filename, **kwargs):\n",
    "    \"\"\"\n",
    "        Allows a user to read from a non-spatial table\n",
    "        **Note: ArcPy is Required for this method**\n",
    "        ===============     ====================================================\n",
    "        **Argument**        **Description**\n",
    "        ---------------     ----------------------------------------------------\n",
    "        filename            Required string. The path to the table.\n",
    "        ===============     ====================================================\n",
    "        **Keyword Arguments**\n",
    "        ===============     ====================================================\n",
    "        **Argument**        **Description**\n",
    "        ---------------     ----------------------------------------------------\n",
    "        fields              Optional List/Tuple. A list (or tuple) of field\n",
    "                            names. For a single field, you can use a string\n",
    "                            instead of a list of strings.\n",
    "                            Use an asterisk (*) instead of a list of fields if\n",
    "                            you want to access all fields from the input table\n",
    "                            (raster and BLOB fields are excluded). However, for\n",
    "                            faster performance and reliable field order, it is\n",
    "                            recommended that the list of fields be narrowed to\n",
    "                            only those that are actually needed.\n",
    "                            Geometry, raster, and BLOB fields are not supported.\n",
    "        ---------------     ----------------------------------------------------\n",
    "        where               Optional String. An optional expression that limits\n",
    "                            the records returned.\n",
    "        ---------------     ----------------------------------------------------\n",
    "        skip_nulls          Optional Boolean. This controls whether records\n",
    "                            using nulls are skipped.\n",
    "        ---------------     ----------------------------------------------------\n",
    "        null_value          Optional String/Integer/Float. Replaces null values\n",
    "                            from the input with a new value.\n",
    "        ===============     ====================================================\n",
    "        :returns: pd.DataFrame\n",
    "    \"\"\""
   ]
  },
  {
   "cell_type": "markdown",
   "metadata": {},
   "source": [
    "### April 10, 2019"
   ]
  },
  {
   "cell_type": "markdown",
   "metadata": {},
   "source": [
    "https://realpython.com/python-f-strings/"
   ]
  },
  {
   "cell_type": "code",
   "execution_count": 4,
   "metadata": {},
   "outputs": [
    {
     "data": {
      "text/plain": [
       "'Why did the dot go to college? To become a graduated symbol'"
      ]
     },
     "execution_count": 4,
     "metadata": {},
     "output_type": "execute_result"
    }
   ],
   "source": [
    "answer = \"To become a graduated symbol\"\n",
    "\n",
    "f\"Why did the dot go to college? {answer}\""
   ]
  },
  {
   "cell_type": "markdown",
   "metadata": {},
   "source": [
    "### Misc - Bugs\n",
    "\n",
    "Translate to spanish helper function:"
   ]
  },
  {
   "cell_type": "code",
   "execution_count": 11,
   "metadata": {},
   "outputs": [],
   "source": [
    "def translate_to_spanish(english_input):\n",
    "    \n",
    "    from googletrans import Translator\n",
    "    \n",
    "    translator = Translator()\n",
    "    if english_input != \"NaN\" and english_input != \"None\":\n",
    "        output = translator.translate(str(english_input), dest='es')\n",
    "        return(output.text)\n",
    "    else:\n",
    "        return None"
   ]
  }
 ],
 "metadata": {
  "kernelspec": {
   "display_name": "Python 3",
   "language": "python",
   "name": "python3"
  },
  "language_info": {
   "codemirror_mode": {
    "name": "ipython",
    "version": 3
   },
   "file_extension": ".py",
   "mimetype": "text/x-python",
   "name": "python",
   "nbconvert_exporter": "python",
   "pygments_lexer": "ipython3",
   "version": "3.6.6"
  }
 },
 "nbformat": 4,
 "nbformat_minor": 2
}
