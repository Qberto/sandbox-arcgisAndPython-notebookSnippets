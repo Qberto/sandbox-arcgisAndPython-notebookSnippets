{
 "cells": [
  {
   "cell_type": "markdown",
   "metadata": {},
   "source": [
    "# Spatially-enabled Dataframe Plotting Issue\n"
   ]
  },
  {
   "cell_type": "code",
   "execution_count": 1,
   "metadata": {},
   "outputs": [],
   "source": [
    "from arcgis.gis import GIS\n",
    "from arcgis.features import GeoAccessor, GeoSeriesAccessor\n",
    "import pandas as pd"
   ]
  },
  {
   "cell_type": "code",
   "execution_count": 2,
   "metadata": {},
   "outputs": [],
   "source": [
    "gis = GIS()"
   ]
  },
  {
   "cell_type": "code",
   "execution_count": 3,
   "metadata": {
    "scrolled": true
   },
   "outputs": [
    {
     "data": {
      "text/html": [
       "<div>\n",
       "<style scoped>\n",
       "    .dataframe tbody tr th:only-of-type {\n",
       "        vertical-align: middle;\n",
       "    }\n",
       "\n",
       "    .dataframe tbody tr th {\n",
       "        vertical-align: top;\n",
       "    }\n",
       "\n",
       "    .dataframe thead th {\n",
       "        text-align: right;\n",
       "    }\n",
       "</style>\n",
       "<table border=\"1\" class=\"dataframe\">\n",
       "  <thead>\n",
       "    <tr style=\"text-align: right;\">\n",
       "      <th></th>\n",
       "      <th>Unnamed: 0</th>\n",
       "      <th>AQSID</th>\n",
       "      <th>SiteName</th>\n",
       "      <th>Status</th>\n",
       "      <th>EPARegion</th>\n",
       "      <th>Latitude</th>\n",
       "      <th>Longitude</th>\n",
       "      <th>Elevation</th>\n",
       "      <th>GMTOffset</th>\n",
       "      <th>CountryCode</th>\n",
       "      <th>...</th>\n",
       "      <th>OZONE_Unit</th>\n",
       "      <th>NO2</th>\n",
       "      <th>NO2_Unit</th>\n",
       "      <th>CO</th>\n",
       "      <th>CO_Unit</th>\n",
       "      <th>SO2</th>\n",
       "      <th>SO2_Unit</th>\n",
       "      <th>PM10</th>\n",
       "      <th>PM10_Unit</th>\n",
       "      <th>SHAPE</th>\n",
       "    </tr>\n",
       "  </thead>\n",
       "  <tbody>\n",
       "    <tr>\n",
       "      <th>0</th>\n",
       "      <td>0</td>\n",
       "      <td>483951076</td>\n",
       "      <td>Franklin Oak Grove</td>\n",
       "      <td>Active</td>\n",
       "      <td>R6</td>\n",
       "      <td>31.168889</td>\n",
       "      <td>-96.481944</td>\n",
       "      <td>136.9</td>\n",
       "      <td>0.0</td>\n",
       "      <td>US</td>\n",
       "      <td>...</td>\n",
       "      <td>NaN</td>\n",
       "      <td>NaN</td>\n",
       "      <td>NaN</td>\n",
       "      <td>NaN</td>\n",
       "      <td>NaN</td>\n",
       "      <td>NaN</td>\n",
       "      <td>NaN</td>\n",
       "      <td>NaN</td>\n",
       "      <td>NaN</td>\n",
       "      <td>{'x': -96.481944, 'y': 31.168889, 'spatialRefe...</td>\n",
       "    </tr>\n",
       "    <tr>\n",
       "      <th>1</th>\n",
       "      <td>1</td>\n",
       "      <td>080699991</td>\n",
       "      <td>Rocky Mtn NP Collocated</td>\n",
       "      <td>Active</td>\n",
       "      <td>R3</td>\n",
       "      <td>40.277800</td>\n",
       "      <td>-105.545300</td>\n",
       "      <td>2744.7</td>\n",
       "      <td>0.0</td>\n",
       "      <td>US</td>\n",
       "      <td>...</td>\n",
       "      <td>NaN</td>\n",
       "      <td>NaN</td>\n",
       "      <td>NaN</td>\n",
       "      <td>NaN</td>\n",
       "      <td>NaN</td>\n",
       "      <td>NaN</td>\n",
       "      <td>NaN</td>\n",
       "      <td>NaN</td>\n",
       "      <td>NaN</td>\n",
       "      <td>{'x': -105.5453, 'y': 40.2778, 'spatialReferen...</td>\n",
       "    </tr>\n",
       "    <tr>\n",
       "      <th>2</th>\n",
       "      <td>2</td>\n",
       "      <td>530639995</td>\n",
       "      <td>Colbert-Greenbluff</td>\n",
       "      <td>Active</td>\n",
       "      <td>R10</td>\n",
       "      <td>47.808226</td>\n",
       "      <td>-117.343270</td>\n",
       "      <td>577.4</td>\n",
       "      <td>-8.0</td>\n",
       "      <td>US</td>\n",
       "      <td>...</td>\n",
       "      <td>NaN</td>\n",
       "      <td>NaN</td>\n",
       "      <td>NaN</td>\n",
       "      <td>NaN</td>\n",
       "      <td>NaN</td>\n",
       "      <td>NaN</td>\n",
       "      <td>NaN</td>\n",
       "      <td>NaN</td>\n",
       "      <td>NaN</td>\n",
       "      <td>{'x': -117.34326999999999, 'y': 47.808226, 'sp...</td>\n",
       "    </tr>\n",
       "    <tr>\n",
       "      <th>3</th>\n",
       "      <td>3</td>\n",
       "      <td>530639997</td>\n",
       "      <td>Spokane-E Broadway Ave (US)</td>\n",
       "      <td>Active</td>\n",
       "      <td>R10</td>\n",
       "      <td>47.663963</td>\n",
       "      <td>-117.257652</td>\n",
       "      <td>611.2</td>\n",
       "      <td>-8.0</td>\n",
       "      <td>US</td>\n",
       "      <td>...</td>\n",
       "      <td>NaN</td>\n",
       "      <td>NaN</td>\n",
       "      <td>NaN</td>\n",
       "      <td>NaN</td>\n",
       "      <td>NaN</td>\n",
       "      <td>NaN</td>\n",
       "      <td>NaN</td>\n",
       "      <td>NaN</td>\n",
       "      <td>NaN</td>\n",
       "      <td>{'x': -117.25765200000001, 'y': 47.663963, 'sp...</td>\n",
       "    </tr>\n",
       "    <tr>\n",
       "      <th>4</th>\n",
       "      <td>4</td>\n",
       "      <td>530639996</td>\n",
       "      <td>Liberty Lake-E Valeyway (US)</td>\n",
       "      <td>Inactive</td>\n",
       "      <td>R10</td>\n",
       "      <td>47.660568</td>\n",
       "      <td>-117.084503</td>\n",
       "      <td>650.3</td>\n",
       "      <td>-8.0</td>\n",
       "      <td>US</td>\n",
       "      <td>...</td>\n",
       "      <td>NaN</td>\n",
       "      <td>NaN</td>\n",
       "      <td>NaN</td>\n",
       "      <td>NaN</td>\n",
       "      <td>NaN</td>\n",
       "      <td>NaN</td>\n",
       "      <td>NaN</td>\n",
       "      <td>NaN</td>\n",
       "      <td>NaN</td>\n",
       "      <td>{'x': -117.084503, 'y': 47.660568, 'spatialRef...</td>\n",
       "    </tr>\n",
       "  </tbody>\n",
       "</table>\n",
       "<p>5 rows × 36 columns</p>\n",
       "</div>"
      ],
      "text/plain": [
       "   Unnamed: 0      AQSID                      SiteName    Status EPARegion  \\\n",
       "0           0  483951076            Franklin Oak Grove    Active        R6   \n",
       "1           1  080699991       Rocky Mtn NP Collocated    Active        R3   \n",
       "2           2  530639995            Colbert-Greenbluff    Active       R10   \n",
       "3           3  530639997   Spokane-E Broadway Ave (US)    Active       R10   \n",
       "4           4  530639996  Liberty Lake-E Valeyway (US)  Inactive       R10   \n",
       "\n",
       "    Latitude   Longitude  Elevation  GMTOffset CountryCode  \\\n",
       "0  31.168889  -96.481944      136.9        0.0          US   \n",
       "1  40.277800 -105.545300     2744.7        0.0          US   \n",
       "2  47.808226 -117.343270      577.4       -8.0          US   \n",
       "3  47.663963 -117.257652      611.2       -8.0          US   \n",
       "4  47.660568 -117.084503      650.3       -8.0          US   \n",
       "\n",
       "                         ...                         OZONE_Unit NO2 NO2_Unit  \\\n",
       "0                        ...                                NaN NaN      NaN   \n",
       "1                        ...                                NaN NaN      NaN   \n",
       "2                        ...                                NaN NaN      NaN   \n",
       "3                        ...                                NaN NaN      NaN   \n",
       "4                        ...                                NaN NaN      NaN   \n",
       "\n",
       "   CO CO_Unit  SO2  SO2_Unit  PM10  PM10_Unit  \\\n",
       "0 NaN     NaN  NaN       NaN   NaN        NaN   \n",
       "1 NaN     NaN  NaN       NaN   NaN        NaN   \n",
       "2 NaN     NaN  NaN       NaN   NaN        NaN   \n",
       "3 NaN     NaN  NaN       NaN   NaN        NaN   \n",
       "4 NaN     NaN  NaN       NaN   NaN        NaN   \n",
       "\n",
       "                                               SHAPE  \n",
       "0  {'x': -96.481944, 'y': 31.168889, 'spatialRefe...  \n",
       "1  {'x': -105.5453, 'y': 40.2778, 'spatialReferen...  \n",
       "2  {'x': -117.34326999999999, 'y': 47.808226, 'sp...  \n",
       "3  {'x': -117.25765200000001, 'y': 47.663963, 'sp...  \n",
       "4  {'x': -117.084503, 'y': 47.660568, 'spatialRef...  \n",
       "\n",
       "[5 rows x 36 columns]"
      ]
     },
     "execution_count": 3,
     "metadata": {},
     "output_type": "execute_result"
    }
   ],
   "source": [
    "airnow_df = pd.read_csv(\"..//datasets//airnow_testdata.csv\")\n",
    "airnow_df.head()"
   ]
  },
  {
   "cell_type": "code",
   "execution_count": 6,
   "metadata": {
    "scrolled": false
   },
   "outputs": [
    {
     "data": {
      "text/plain": [
       "<matplotlib.axes._subplots.AxesSubplot at 0x283c01a4f60>"
      ]
     },
     "execution_count": 6,
     "metadata": {},
     "output_type": "execute_result"
    },
    {
     "data": {
      "image/png": "[encoded data removed]",
      "text/plain": [
       "<Figure size 432x288 with 1 Axes>"
      ]
     },
     "metadata": {},
     "output_type": "display_data"
    }
   ],
   "source": [
    "airnow_df.plot(x=\"Longitude\", y=\"Latitude\", kind=\"scatter\")"
   ]
  },
  {
   "cell_type": "code",
   "execution_count": 7,
   "metadata": {},
   "outputs": [
    {
     "data": {
      "text/html": [
       "<div>\n",
       "<style scoped>\n",
       "    .dataframe tbody tr th:only-of-type {\n",
       "        vertical-align: middle;\n",
       "    }\n",
       "\n",
       "    .dataframe tbody tr th {\n",
       "        vertical-align: top;\n",
       "    }\n",
       "\n",
       "    .dataframe thead th {\n",
       "        text-align: right;\n",
       "    }\n",
       "</style>\n",
       "<table border=\"1\" class=\"dataframe\">\n",
       "  <thead>\n",
       "    <tr style=\"text-align: right;\">\n",
       "      <th></th>\n",
       "      <th>Unnamed: 0</th>\n",
       "      <th>AQSID</th>\n",
       "      <th>SiteName</th>\n",
       "      <th>Status</th>\n",
       "      <th>EPARegion</th>\n",
       "      <th>Latitude</th>\n",
       "      <th>Longitude</th>\n",
       "      <th>Elevation</th>\n",
       "      <th>GMTOffset</th>\n",
       "      <th>CountryCode</th>\n",
       "      <th>...</th>\n",
       "      <th>OZONE_Unit</th>\n",
       "      <th>NO2</th>\n",
       "      <th>NO2_Unit</th>\n",
       "      <th>CO</th>\n",
       "      <th>CO_Unit</th>\n",
       "      <th>SO2</th>\n",
       "      <th>SO2_Unit</th>\n",
       "      <th>PM10</th>\n",
       "      <th>PM10_Unit</th>\n",
       "      <th>SHAPE</th>\n",
       "    </tr>\n",
       "  </thead>\n",
       "  <tbody>\n",
       "    <tr>\n",
       "      <th>0</th>\n",
       "      <td>0</td>\n",
       "      <td>483951076</td>\n",
       "      <td>Franklin Oak Grove</td>\n",
       "      <td>Active</td>\n",
       "      <td>R6</td>\n",
       "      <td>31.168889</td>\n",
       "      <td>-96.481944</td>\n",
       "      <td>136.9</td>\n",
       "      <td>0.0</td>\n",
       "      <td>US</td>\n",
       "      <td>...</td>\n",
       "      <td>NaN</td>\n",
       "      <td>NaN</td>\n",
       "      <td>NaN</td>\n",
       "      <td>NaN</td>\n",
       "      <td>NaN</td>\n",
       "      <td>NaN</td>\n",
       "      <td>NaN</td>\n",
       "      <td>NaN</td>\n",
       "      <td>NaN</td>\n",
       "      <td>{\"x\": -96.481944, \"y\": 31.168889, \"spatialRefe...</td>\n",
       "    </tr>\n",
       "    <tr>\n",
       "      <th>1</th>\n",
       "      <td>1</td>\n",
       "      <td>080699991</td>\n",
       "      <td>Rocky Mtn NP Collocated</td>\n",
       "      <td>Active</td>\n",
       "      <td>R3</td>\n",
       "      <td>40.277800</td>\n",
       "      <td>-105.545300</td>\n",
       "      <td>2744.7</td>\n",
       "      <td>0.0</td>\n",
       "      <td>US</td>\n",
       "      <td>...</td>\n",
       "      <td>NaN</td>\n",
       "      <td>NaN</td>\n",
       "      <td>NaN</td>\n",
       "      <td>NaN</td>\n",
       "      <td>NaN</td>\n",
       "      <td>NaN</td>\n",
       "      <td>NaN</td>\n",
       "      <td>NaN</td>\n",
       "      <td>NaN</td>\n",
       "      <td>{\"x\": -105.5453, \"y\": 40.2778, \"spatialReferen...</td>\n",
       "    </tr>\n",
       "    <tr>\n",
       "      <th>2</th>\n",
       "      <td>2</td>\n",
       "      <td>530639995</td>\n",
       "      <td>Colbert-Greenbluff</td>\n",
       "      <td>Active</td>\n",
       "      <td>R10</td>\n",
       "      <td>47.808226</td>\n",
       "      <td>-117.343270</td>\n",
       "      <td>577.4</td>\n",
       "      <td>-8.0</td>\n",
       "      <td>US</td>\n",
       "      <td>...</td>\n",
       "      <td>NaN</td>\n",
       "      <td>NaN</td>\n",
       "      <td>NaN</td>\n",
       "      <td>NaN</td>\n",
       "      <td>NaN</td>\n",
       "      <td>NaN</td>\n",
       "      <td>NaN</td>\n",
       "      <td>NaN</td>\n",
       "      <td>NaN</td>\n",
       "      <td>{\"x\": -117.34327, \"y\": 47.808226, \"spatialRefe...</td>\n",
       "    </tr>\n",
       "    <tr>\n",
       "      <th>3</th>\n",
       "      <td>3</td>\n",
       "      <td>530639997</td>\n",
       "      <td>Spokane-E Broadway Ave (US)</td>\n",
       "      <td>Active</td>\n",
       "      <td>R10</td>\n",
       "      <td>47.663963</td>\n",
       "      <td>-117.257652</td>\n",
       "      <td>611.2</td>\n",
       "      <td>-8.0</td>\n",
       "      <td>US</td>\n",
       "      <td>...</td>\n",
       "      <td>NaN</td>\n",
       "      <td>NaN</td>\n",
       "      <td>NaN</td>\n",
       "      <td>NaN</td>\n",
       "      <td>NaN</td>\n",
       "      <td>NaN</td>\n",
       "      <td>NaN</td>\n",
       "      <td>NaN</td>\n",
       "      <td>NaN</td>\n",
       "      <td>{\"x\": -117.257652, \"y\": 47.663963, \"spatialRef...</td>\n",
       "    </tr>\n",
       "    <tr>\n",
       "      <th>4</th>\n",
       "      <td>4</td>\n",
       "      <td>530639996</td>\n",
       "      <td>Liberty Lake-E Valeyway (US)</td>\n",
       "      <td>Inactive</td>\n",
       "      <td>R10</td>\n",
       "      <td>47.660568</td>\n",
       "      <td>-117.084503</td>\n",
       "      <td>650.3</td>\n",
       "      <td>-8.0</td>\n",
       "      <td>US</td>\n",
       "      <td>...</td>\n",
       "      <td>NaN</td>\n",
       "      <td>NaN</td>\n",
       "      <td>NaN</td>\n",
       "      <td>NaN</td>\n",
       "      <td>NaN</td>\n",
       "      <td>NaN</td>\n",
       "      <td>NaN</td>\n",
       "      <td>NaN</td>\n",
       "      <td>NaN</td>\n",
       "      <td>{\"x\": -117.084503, \"y\": 47.660568, \"spatialRef...</td>\n",
       "    </tr>\n",
       "  </tbody>\n",
       "</table>\n",
       "<p>5 rows × 36 columns</p>\n",
       "</div>"
      ],
      "text/plain": [
       "   Unnamed: 0      AQSID                      SiteName    Status EPARegion  \\\n",
       "0           0  483951076            Franklin Oak Grove    Active        R6   \n",
       "1           1  080699991       Rocky Mtn NP Collocated    Active        R3   \n",
       "2           2  530639995            Colbert-Greenbluff    Active       R10   \n",
       "3           3  530639997   Spokane-E Broadway Ave (US)    Active       R10   \n",
       "4           4  530639996  Liberty Lake-E Valeyway (US)  Inactive       R10   \n",
       "\n",
       "    Latitude   Longitude  Elevation  GMTOffset CountryCode  \\\n",
       "0  31.168889  -96.481944      136.9        0.0          US   \n",
       "1  40.277800 -105.545300     2744.7        0.0          US   \n",
       "2  47.808226 -117.343270      577.4       -8.0          US   \n",
       "3  47.663963 -117.257652      611.2       -8.0          US   \n",
       "4  47.660568 -117.084503      650.3       -8.0          US   \n",
       "\n",
       "                         ...                         OZONE_Unit NO2 NO2_Unit  \\\n",
       "0                        ...                                NaN NaN      NaN   \n",
       "1                        ...                                NaN NaN      NaN   \n",
       "2                        ...                                NaN NaN      NaN   \n",
       "3                        ...                                NaN NaN      NaN   \n",
       "4                        ...                                NaN NaN      NaN   \n",
       "\n",
       "   CO CO_Unit  SO2  SO2_Unit  PM10  PM10_Unit  \\\n",
       "0 NaN     NaN  NaN       NaN   NaN        NaN   \n",
       "1 NaN     NaN  NaN       NaN   NaN        NaN   \n",
       "2 NaN     NaN  NaN       NaN   NaN        NaN   \n",
       "3 NaN     NaN  NaN       NaN   NaN        NaN   \n",
       "4 NaN     NaN  NaN       NaN   NaN        NaN   \n",
       "\n",
       "                                               SHAPE  \n",
       "0  {\"x\": -96.481944, \"y\": 31.168889, \"spatialRefe...  \n",
       "1  {\"x\": -105.5453, \"y\": 40.2778, \"spatialReferen...  \n",
       "2  {\"x\": -117.34327, \"y\": 47.808226, \"spatialRefe...  \n",
       "3  {\"x\": -117.257652, \"y\": 47.663963, \"spatialRef...  \n",
       "4  {\"x\": -117.084503, \"y\": 47.660568, \"spatialRef...  \n",
       "\n",
       "[5 rows x 36 columns]"
      ]
     },
     "execution_count": 7,
     "metadata": {},
     "output_type": "execute_result"
    }
   ],
   "source": [
    "airnow_sdf = pd.DataFrame.spatial.from_xy(df=airnow_df, x_column=\"Longitude\", y_column=\"Latitude\", sr=4326)\n",
    "airnow_sdf.head()"
   ]
  },
  {
   "cell_type": "code",
   "execution_count": 8,
   "metadata": {},
   "outputs": [
    {
     "data": {
      "text/plain": [
       "(2810, 36)"
      ]
     },
     "execution_count": 8,
     "metadata": {},
     "output_type": "execute_result"
    }
   ],
   "source": [
    "airnow_sdf.shape"
   ]
  },
  {
   "cell_type": "code",
   "execution_count": 9,
   "metadata": {
    "scrolled": true
   },
   "outputs": [
    {
     "data": {
      "text/plain": [
       "0       {\"x\": -96.481944, \"y\": 31.168889, \"spatialRefe...\n",
       "1       {\"x\": -105.5453, \"y\": 40.2778, \"spatialReferen...\n",
       "2       {\"x\": -117.34327, \"y\": 47.808226, \"spatialRefe...\n",
       "3       {\"x\": -117.257652, \"y\": 47.663963, \"spatialRef...\n",
       "4       {\"x\": -117.084503, \"y\": 47.660568, \"spatialRef...\n",
       "5       {\"x\": -81.276833, \"y\": 29.489082, \"spatialRefe...\n",
       "6       {\"x\": -76.746814, \"y\": 39.371679, \"spatialRefe...\n",
       "7       {\"x\": -74.156898, \"y\": 40.631699, \"spatialRefe...\n",
       "8       {\"x\": -119.218483, \"y\": 38.257656, \"spatialRef...\n",
       "9       {\"x\": -74.1994, \"y\": 40.5802, \"spatialReferenc...\n",
       "10      {\"x\": -84.538375, \"y\": 39.146025, \"spatialRefe...\n",
       "11      {\"x\": -119.073644, \"y\": 37.784396, \"spatialRef...\n",
       "12      {\"x\": -106.306107, \"y\": 40.882198, \"spatialRef...\n",
       "13      {\"x\": -117.277496, \"y\": 48.3456, \"spatialRefer...\n",
       "14      {\"x\": -84.50404, \"y\": 39.12886, \"spatialRefere...\n",
       "15      {\"x\": -80.658908, \"y\": 41.096158, \"spatialRefe...\n",
       "16      {\"x\": -80.658467, \"y\": 41.095938, \"spatialRefe...\n",
       "17      {\"x\": -117.491982, \"y\": 34.100132, \"spatialRef...\n",
       "18      {\"x\": -82.255676, \"y\": 38.243663, \"spatialRefe...\n",
       "19      {\"x\": -118.130689, \"y\": 34.669589, \"spatialRef...\n",
       "20      {\"x\": -118.8791, \"y\": 34.8289, \"spatialReferen...\n",
       "21      {\"x\": -109.7531, \"y\": 42.7186, \"spatialReferen...\n",
       "22      {\"x\": -72.3867, \"y\": 41.9756, \"spatialReferenc...\n",
       "23      {\"x\": -95.041389, \"y\": 29.38777, \"spatialRefer...\n",
       "24      {\"x\": -110.353058, \"y\": 42.98, \"spatialReferen...\n",
       "25      {\"x\": -119.4039, \"y\": 35.0544, \"spatialReferen...\n",
       "26      {\"x\": -118.8511, \"y\": 35.3461, \"spatialReferen...\n",
       "27      {\"x\": -97.1175, \"y\": 32.5418, \"spatialReferenc...\n",
       "28      {\"x\": -123.348466, \"y\": 42.434149, \"spatialRef...\n",
       "29      {\"x\": -118.226755, \"y\": 34.066429, \"spatialRef...\n",
       "                              ...                        \n",
       "2780    {\"x\": -81.1306, \"y\": 32.0903, \"spatialReferenc...\n",
       "2781    {\"x\": -75.6231, \"y\": 41.4428, \"spatialReferenc...\n",
       "2782    {\"x\": -77.9608, \"y\": 34.9547, \"spatialReferenc...\n",
       "2783    {\"x\": -123.005934, \"y\": 44.943114, \"spatialRef...\n",
       "2784    {\"x\": -73.079102, \"y\": 41.644901, \"spatialRefe...\n",
       "2785    {\"x\": -73.303299, \"y\": 41.833099, \"spatialRefe...\n",
       "2786    {\"x\": -107.6517, \"y\": 36.8097, \"spatialReferen...\n",
       "2787    {\"x\": -72.0789, \"y\": 41.3536, \"spatialReferenc...\n",
       "2788    {\"x\": -98.332814, \"y\": 29.352911, \"spatialRefe...\n",
       "2789    {\"x\": -80.2961, \"y\": 43.1403, \"spatialReferenc...\n",
       "2790    {\"x\": -112.046, \"y\": 33.4579, \"spatialReferenc...\n",
       "2791    {\"x\": -111.9172, \"y\": 33.4797, \"spatialReferen...\n",
       "2792    {\"x\": -76.30135, \"y\": 36.85555, \"spatialRefere...\n",
       "2793    {\"x\": -107.9769, \"y\": 36.7422, \"spatialReferen...\n",
       "2794    {\"x\": -83.526398, \"y\": 36.671902, \"spatialRefe...\n",
       "2795    {\"x\": -75.7861, \"y\": 42.7306, \"spatialReferenc...\n",
       "2796    {\"x\": -79.4667, \"y\": 36.3028, \"spatialReferenc...\n",
       "2797    {\"x\": -79.9033, \"y\": 40.1469, \"spatialReferenc...\n",
       "2798    {\"x\": -93.8731, \"y\": 30.18, \"spatialReference\"...\n",
       "2799    {\"x\": -102.402199, \"y\": 48.641899, \"spatialRef...\n",
       "2800    {\"x\": -75.6764, \"y\": 45.4322, \"spatialReferenc...\n",
       "2801    {\"x\": -97.87, \"y\": 55.78, \"spatialReference\": ...\n",
       "2802    {\"x\": -107.81689, \"y\": 50.285833, \"spatialRefe...\n",
       "2803    {\"x\": -107.904167, \"y\": 36.035, \"spatialRefere...\n",
       "2804    {\"x\": -121.458499, \"y\": 38.556326, \"spatialRef...\n",
       "2805    {\"x\": -66.4664, \"y\": 45.075, \"spatialReference...\n",
       "2806    {\"x\": -96.015785, \"y\": 36.16127, \"spatialRefer...\n",
       "2807    {\"x\": -123.8317, \"y\": 46.9772, \"spatialReferen...\n",
       "2808    {\"x\": -98.39139, \"y\": 29.5294, \"spatialReferen...\n",
       "2809    {\"x\": -71.9492, \"y\": 45.9075, \"spatialReferenc...\n",
       "Name: SHAPE, Length: 2810, dtype: geometry"
      ]
     },
     "execution_count": 9,
     "metadata": {},
     "output_type": "execute_result"
    }
   ],
   "source": [
    "airnow_sdf['SHAPE']"
   ]
  },
  {
   "cell_type": "code",
   "execution_count": 10,
   "metadata": {},
   "outputs": [
    {
     "data": {
      "application/vnd.jupyter.widget-view+json": {
       "model_id": "",
       "version_major": 2,
       "version_minor": 0
      },
      "text/plain": [
       "MapView(layout=Layout(height='400px', width='100%'))"
      ]
     },
     "metadata": {},
     "output_type": "display_data"
    },
    {
     "data": {
      "text/html": [
       "<div class=\"map-static-img-preview-d0db24e2-ba1d-41fe-8b70-5073e8c8a19d\"><img src=\"\"></img></div>"
      ],
      "text/plain": [
       "<IPython.core.display.HTML object>"
      ]
     },
     "metadata": {},
     "output_type": "display_data"
    }
   ],
   "source": [
    "usa_map = gis.map(\"usa\")\n",
    "usa_map"
   ]
  },
  {
   "cell_type": "code",
   "execution_count": 11,
   "metadata": {},
   "outputs": [
    {
     "data": {
      "text/plain": [
       "True"
      ]
     },
     "execution_count": 11,
     "metadata": {},
     "output_type": "execute_result"
    }
   ],
   "source": [
    "airnow_sdf.spatial.plot(usa_map)"
   ]
  },
  {
   "cell_type": "code",
   "execution_count": 12,
   "metadata": {},
   "outputs": [
    {
     "name": "stdout",
     "output_type": "stream",
     "text": [
      "Enter password: ········\n"
     ]
    }
   ],
   "source": [
    "gis = GIS(\"https://esrifederal.maps.arcgis.com\", username=\"Anieto_esrifederal\")"
   ]
  },
  {
   "cell_type": "code",
   "execution_count": 13,
   "metadata": {},
   "outputs": [
    {
     "data": {
      "application/vnd.jupyter.widget-view+json": {
       "model_id": "817502ae5bef4cc7a195ca5d9c6a4e69",
       "version_major": 2,
       "version_minor": 0
      },
      "text/plain": [
       "MapView(layout=Layout(height='400px', width='100%'))"
      ]
     },
     "metadata": {},
     "output_type": "display_data"
    },
    {
     "data": {
      "text/html": [
       "<div class=\"map-static-img-preview-2c0d11c5-b1bf-46c5-be67-2960b2499ae0\"><img src=\"\"></img></div>"
      ],
      "text/plain": [
       "<IPython.core.display.HTML object>"
      ]
     },
     "metadata": {},
     "output_type": "display_data"
    }
   ],
   "source": [
    "usa_map = gis.map(\"usa\")\n",
    "usa_map"
   ]
  },
  {
   "cell_type": "code",
   "execution_count": 15,
   "metadata": {},
   "outputs": [
    {
     "data": {
      "text/plain": [
       "True"
      ]
     },
     "execution_count": 15,
     "metadata": {},
     "output_type": "execute_result"
    }
   ],
   "source": [
    "airnow_sdf.spatial.plot(usa_map)"
   ]
  },
  {
   "cell_type": "markdown",
   "metadata": {},
   "source": [
    "### Troubleshooting notes\n",
    "\n",
    "If the GIS is the default (ArcGIS Online), the spatially-enabled dataframe does not plot on the map widget at all. \n",
    "\n",
    "If the GIS is an authenticated portal, the spatially-enabled dataframe partially plots, but the records with nans on numeric fields fail to display."
   ]
  }
 ],
 "metadata": {
  "kernelspec": {
   "display_name": "Python 3",
   "language": "python",
   "name": "python3"
  },
  "language_info": {
   "codemirror_mode": {
    "name": "ipython",
    "version": 3
   },
   "file_extension": ".py",
   "mimetype": "text/x-python",
   "name": "python",
   "nbconvert_exporter": "python",
   "pygments_lexer": "ipython3",
   "version": "3.6.6"
  }
 },
 "nbformat": 4,
 "nbformat_minor": 2
}
